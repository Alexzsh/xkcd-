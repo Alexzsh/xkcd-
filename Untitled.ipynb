{
 "cells": [
  {
   "cell_type": "code",
   "execution_count": null,
   "metadata": {},
   "outputs": [],
   "source": []
  },
  {
   "cell_type": "code",
   "execution_count": null,
   "metadata": {},
   "outputs": [],
   "source": [
    "\n",
    "num=355\n",
    "r=requests.get(domain+str(num))"
   ]
  },
  {
   "cell_type": "code",
   "execution_count": null,
   "metadata": {},
   "outputs": [],
   "source": [
    "res=BeautifulSoup(r.text)"
   ]
  },
  {
   "cell_type": "code",
   "execution_count": null,
   "metadata": {},
   "outputs": [],
   "source": [
    "title=res.select('#ctitle')[0].string"
   ]
  },
  {
   "cell_type": "code",
   "execution_count": null,
   "metadata": {},
   "outputs": [],
   "source": [
    "img=res.select('img[alt=\"'+title+'\"]')[0]['src']"
   ]
  },
  {
   "cell_type": "code",
   "execution_count": null,
   "metadata": {},
   "outputs": [],
   "source": [
    "image='https:'+img"
   ]
  },
  {
   "cell_type": "code",
   "execution_count": null,
   "metadata": {},
   "outputs": [],
   "source": [
    "r=requests.get(image)"
   ]
  },
  {
   "cell_type": "code",
   "execution_count": null,
   "metadata": {},
   "outputs": [],
   "source": [
    "with open('test.png','wb') as fw:\n",
    "    fw.write(r.content)"
   ]
  },
  {
   "cell_type": "code",
   "execution_count": null,
   "metadata": {},
   "outputs": [],
   "source": [
    "%time\n",
    "import requests\n",
    "import lxml\n",
    "from bs4 import BeautifulSoup\n",
    "import re\n",
    "import os\n",
    "import tqdm\n",
    "import gevent\n",
    "dirname='python antigravity comics'\n",
    "if not os.path.exists(dirname):\n",
    "    os.makedirs(dirname)\n",
    "domain=\"https://xkcd.com/\"\n",
    "num=1\n",
    "def gevent_req(i):\n",
    "    website=domain+str(i)\n",
    "    req=requests.get(website)\n",
    "    if req.status_code==200:\n",
    "        res=BeautifulSoup(req.text)\n",
    "        try:\n",
    "            title=res.select('#ctitle')[0].string\n",
    "            img=res.select('img[alt=\"'+title+'\"]')[0]['src']\n",
    "            filename=title+img[img.rfind('.'):]\n",
    "            if os.path.exists(filename):\n",
    "                return\n",
    "        except Exception as e:\n",
    "            print(e)\n",
    "        image='https:'+img\n",
    "        req=requests.get(image)\n",
    "        if req.status_code==200:\n",
    "            with open(os.path.join(dirname,filename),'wb') as fw:\n",
    "                fw.write(req.content)\n",
    "                print(filename,'is  over ')\n",
    "                \n",
    "threads = [gevent.spawn(gevent_req, i) for i in range(1000)]\n",
    "gevent.joinall(threads)\n",
    "    \n"
   ]
  },
  {
   "cell_type": "code",
   "execution_count": null,
   "metadata": {},
   "outputs": [],
   "source": [
    "%%time\n",
    "gevent_req(1)"
   ]
  },
  {
   "cell_type": "code",
   "execution_count": null,
   "metadata": {},
   "outputs": [],
   "source": [
    "%time\n",
    "import requests\n",
    "import lxml\n",
    "from bs4 import BeautifulSoup\n",
    "import re\n",
    "import os\n",
    "import tqdm\n",
    "import gevent\n",
    "import aiohttp\n",
    "dirname='python antigravity comics'\n",
    "if not os.path.exists(dirname):\n",
    "    os.makedirs(dirname)\n",
    "domain=\"https://xkcd.com/\"\n",
    "num=1\n",
    "def gevent_req(i):\n",
    "    website=domain+str(i)\n",
    "    async with aiohttp.get(website) as req:\n",
    "        await r.text()\n",
    "    req=requests.get(website)\n",
    "    if req.status_code==200:\n",
    "        res=BeautifulSoup(req.text)\n",
    "        try:\n",
    "            title=res.select('#ctitle')[0].string\n",
    "            img=res.select('img[alt=\"'+title+'\"]')[0]['src']\n",
    "            filename=title+img[img.rfind('.'):]\n",
    "            if os.path.exists(filename):\n",
    "                return\n",
    "        except Exception as e:\n",
    "            print(e)\n",
    "        image='https:'+img\n",
    "        req=requests.get(image)\n",
    "        if req.status_code==200:\n",
    "            with open(os.path.join(dirname,filename),'wb') as fw:\n",
    "                fw.write(req.content)\n",
    "                print(filename,'is  over ')\n",
    "                \n",
    "threads = [gevent.spawn(gevent_req, i) for i in range(1000)]\n",
    "gevent.joinall(threads)\n",
    "    \n",
    "\n",
    "\n"
   ]
  },
  {
   "cell_type": "code",
   "execution_count": 21,
   "metadata": {},
   "outputs": [
    {
     "ename": "RuntimeError",
     "evalue": "This event loop is already running",
     "output_type": "error",
     "traceback": [
      "\u001b[0;31m---------------------------------------------------------------------------\u001b[0m",
      "\u001b[0;31mRuntimeError\u001b[0m                              Traceback (most recent call last)",
      "\u001b[0;32m<ipython-input-21-4d85c58d491c>\u001b[0m in \u001b[0;36m<module>\u001b[0;34m()\u001b[0m\n\u001b[1;32m     54\u001b[0m \u001b[0mloop\u001b[0m\u001b[0;34m=\u001b[0m\u001b[0masyncio\u001b[0m\u001b[0;34m.\u001b[0m\u001b[0mget_event_loop\u001b[0m\u001b[0;34m(\u001b[0m\u001b[0;34m)\u001b[0m\u001b[0;34m\u001b[0m\u001b[0m\n\u001b[1;32m     55\u001b[0m \u001b[0mtasks\u001b[0m\u001b[0;34m=\u001b[0m\u001b[0;34m[\u001b[0m\u001b[0mgetPage\u001b[0m\u001b[0;34m(\u001b[0m\u001b[0mhost\u001b[0m\u001b[0;34m,\u001b[0m\u001b[0mres_list\u001b[0m\u001b[0;34m)\u001b[0m \u001b[0;32mfor\u001b[0m \u001b[0mhost\u001b[0m \u001b[0;32min\u001b[0m \u001b[0mpage_urls\u001b[0m\u001b[0;34m]\u001b[0m\u001b[0;34m\u001b[0m\u001b[0m\n\u001b[0;32m---> 56\u001b[0;31m \u001b[0mloop\u001b[0m\u001b[0;34m.\u001b[0m\u001b[0mrun_until_complete\u001b[0m\u001b[0;34m(\u001b[0m\u001b[0masyncio\u001b[0m\u001b[0;34m.\u001b[0m\u001b[0mwait\u001b[0m\u001b[0;34m(\u001b[0m\u001b[0mtasks\u001b[0m\u001b[0;34m)\u001b[0m\u001b[0;34m)\u001b[0m\u001b[0;34m\u001b[0m\u001b[0m\n\u001b[0m\u001b[1;32m     57\u001b[0m \u001b[0mimage_urls\u001b[0m\u001b[0;34m=\u001b[0m\u001b[0;34m[\u001b[0m\u001b[0;34m]\u001b[0m\u001b[0;34m\u001b[0m\u001b[0m\n\u001b[1;32m     58\u001b[0m \u001b[0;32mfor\u001b[0m \u001b[0mres\u001b[0m \u001b[0;32min\u001b[0m \u001b[0mres_list\u001b[0m\u001b[0;34m:\u001b[0m\u001b[0;34m\u001b[0m\u001b[0m\n",
      "\u001b[0;32m/usr/local/miniconda3/lib/python3.6/asyncio/base_events.py\u001b[0m in \u001b[0;36mrun_until_complete\u001b[0;34m(self, future)\u001b[0m\n\u001b[1;32m    453\u001b[0m         \u001b[0mfuture\u001b[0m\u001b[0;34m.\u001b[0m\u001b[0madd_done_callback\u001b[0m\u001b[0;34m(\u001b[0m\u001b[0m_run_until_complete_cb\u001b[0m\u001b[0;34m)\u001b[0m\u001b[0;34m\u001b[0m\u001b[0m\n\u001b[1;32m    454\u001b[0m         \u001b[0;32mtry\u001b[0m\u001b[0;34m:\u001b[0m\u001b[0;34m\u001b[0m\u001b[0m\n\u001b[0;32m--> 455\u001b[0;31m             \u001b[0mself\u001b[0m\u001b[0;34m.\u001b[0m\u001b[0mrun_forever\u001b[0m\u001b[0;34m(\u001b[0m\u001b[0;34m)\u001b[0m\u001b[0;34m\u001b[0m\u001b[0m\n\u001b[0m\u001b[1;32m    456\u001b[0m         \u001b[0;32mexcept\u001b[0m\u001b[0;34m:\u001b[0m\u001b[0;34m\u001b[0m\u001b[0m\n\u001b[1;32m    457\u001b[0m             \u001b[0;32mif\u001b[0m \u001b[0mnew_task\u001b[0m \u001b[0;32mand\u001b[0m \u001b[0mfuture\u001b[0m\u001b[0;34m.\u001b[0m\u001b[0mdone\u001b[0m\u001b[0;34m(\u001b[0m\u001b[0;34m)\u001b[0m \u001b[0;32mand\u001b[0m \u001b[0;32mnot\u001b[0m \u001b[0mfuture\u001b[0m\u001b[0;34m.\u001b[0m\u001b[0mcancelled\u001b[0m\u001b[0;34m(\u001b[0m\u001b[0;34m)\u001b[0m\u001b[0;34m:\u001b[0m\u001b[0;34m\u001b[0m\u001b[0m\n",
      "\u001b[0;32m/usr/local/miniconda3/lib/python3.6/asyncio/base_events.py\u001b[0m in \u001b[0;36mrun_forever\u001b[0;34m(self)\u001b[0m\n\u001b[1;32m    407\u001b[0m         \u001b[0mself\u001b[0m\u001b[0;34m.\u001b[0m\u001b[0m_check_closed\u001b[0m\u001b[0;34m(\u001b[0m\u001b[0;34m)\u001b[0m\u001b[0;34m\u001b[0m\u001b[0m\n\u001b[1;32m    408\u001b[0m         \u001b[0;32mif\u001b[0m \u001b[0mself\u001b[0m\u001b[0;34m.\u001b[0m\u001b[0mis_running\u001b[0m\u001b[0;34m(\u001b[0m\u001b[0;34m)\u001b[0m\u001b[0;34m:\u001b[0m\u001b[0;34m\u001b[0m\u001b[0m\n\u001b[0;32m--> 409\u001b[0;31m             \u001b[0;32mraise\u001b[0m \u001b[0mRuntimeError\u001b[0m\u001b[0;34m(\u001b[0m\u001b[0;34m'This event loop is already running'\u001b[0m\u001b[0;34m)\u001b[0m\u001b[0;34m\u001b[0m\u001b[0m\n\u001b[0m\u001b[1;32m    410\u001b[0m         \u001b[0;32mif\u001b[0m \u001b[0mevents\u001b[0m\u001b[0;34m.\u001b[0m\u001b[0m_get_running_loop\u001b[0m\u001b[0;34m(\u001b[0m\u001b[0;34m)\u001b[0m \u001b[0;32mis\u001b[0m \u001b[0;32mnot\u001b[0m \u001b[0;32mNone\u001b[0m\u001b[0;34m:\u001b[0m\u001b[0;34m\u001b[0m\u001b[0m\n\u001b[1;32m    411\u001b[0m             raise RuntimeError(\n",
      "\u001b[0;31mRuntimeError\u001b[0m: This event loop is already running"
     ]
    }
   ],
   "source": [
    "\n",
    "import requests\n",
    "import lxml\n",
    "from bs4 import BeautifulSoup\n",
    "import re\n",
    "import os\n",
    "import tqdm\n",
    "import gevent\n",
    "import aiohttp\n",
    "import asyncio\n",
    "import logging\n",
    "logger = logging.getLogger()  #创建一个logger对象\n",
    "logger.setLevel(logging.INFO)  #设置logger级别\n",
    "\n",
    "headers = {'User-Agent':'Mozilla/4.0 (compatible; MSIE 5.5; Windows NT)'}\n",
    "dirname='python antigravity comics'\n",
    "if not os.path.exists(dirname):\n",
    "    os.makedirs(dirname)\n",
    "res_list=[]   \n",
    "    \n",
    "@asyncio.coroutine\n",
    "async def getPage(url,res_list):\n",
    "    async with aiohttp.ClientSession() as session:\n",
    "        async with session.get(url,headers=headers) as resp:\n",
    "            assert resp.status==200\n",
    "            res_list.append(await resp.text())\n",
    "            \n",
    "            \n",
    "@asyncio.coroutine\n",
    "async def downImage(url):\n",
    "    async with aiohttp.ClientSession() as session:\n",
    "        async with session.get(url,headers=headers) as resp:\n",
    "            assert resp.status==200\n",
    "            with open(os.path.join(dirname,url[url.rfind('/'):]),'wb') as fw:\n",
    "                fw.write(await resp.content)\n",
    "                logging.info((filename+'is  over '))\n",
    "                \n",
    "                \n",
    "class parseListPage():\n",
    "    def __init__(self,page_str):\n",
    "        self.page_str = page_str\n",
    "    def __enter__(self):\n",
    "        page_str = self.page_str\n",
    "        page = BeautifulSoup(page_str,'lxml')\n",
    "        # 获取文章链接\n",
    "        title=res.select('#ctitle')[0].string\n",
    "        img=res.select('img[alt=\"'+title+'\"]')[0]['src']\n",
    "        return 'https:'+img\n",
    "    def __exit__(self, exc_type, exc_val, exc_tb):\n",
    "        pass\n",
    "    \n",
    "page_url_base=\"https://xkcd.com/\"\n",
    "page_urls=[page_url_base+str(i) for i in range(2041)]\n",
    "loop=asyncio.get_event_loop()\n",
    "tasks=[getPage(host,res_list) for host in page_urls]\n",
    "loop.run_until_complete(asyncio.wait(tasks))\n",
    "image_urls=[]\n",
    "for res in res_list:\n",
    "    with parseListPage(res) as tmp:\n",
    "        image_urls+=tmp\n",
    "res_list=[]\n",
    "tasks=[downImage(url) for url in image_urls]\n",
    "loop.run_until_complete(asyncio.wait(tasks))\n",
    "loop.close()\n"
   ]
  },
  {
   "cell_type": "code",
   "execution_count": 15,
   "metadata": {},
   "outputs": [
    {
     "name": "stderr",
     "output_type": "stream",
     "text": [
      "WARNING:root:warning###########\n",
      "WARNING:root:error@@@@@@@@@@@@@@\n",
      "ERROR:root:error~~~~~~~~~~~~~~~~\n"
     ]
    }
   ],
   "source": [
    "import logging\n",
    "log_format = '%(filename)s %(funcName)s %(asctime)s %(message)s'\n",
    "log_filename = \"logging_test.log\"\n",
    "logging.basicConfig(filename=log_filename, format=log_format, datefmt='%Y-%m-%d %H:%M:%S:%S %p', filemode='w', level=logging.INFO)\n",
    "logging.warning(\"warning###########\")\n",
    "logging.warning(\"error@@@@@@@@@@@@@@\")\n",
    "logging.error(\"error~~~~~~~~~~~~~~~~\")"
   ]
  },
  {
   "cell_type": "code",
   "execution_count": 20,
   "metadata": {},
   "outputs": [
    {
     "name": "stderr",
     "output_type": "stream",
     "text": [
      "INFO:root:1\n",
      "2018-09-03 10:44:02,396 <ipython-input-20-574431dffdaa>[line:5] INFO 1\n"
     ]
    }
   ],
   "source": [
    "import logging\n",
    "logger = logging.getLogger()  #创建一个logger对象\n",
    "logger.setLevel(logging.INFO)  #设置logger级别\n",
    "a=1\n",
    "logging.info(a)\n"
   ]
  },
  {
   "cell_type": "code",
   "execution_count": null,
   "metadata": {},
   "outputs": [],
   "source": []
  }
 ],
 "metadata": {
  "kernelspec": {
   "display_name": "Python 3",
   "language": "python",
   "name": "python3"
  },
  "language_info": {
   "codemirror_mode": {
    "name": "ipython",
    "version": 3
   },
   "file_extension": ".py",
   "mimetype": "text/x-python",
   "name": "python",
   "nbconvert_exporter": "python",
   "pygments_lexer": "ipython3",
   "version": "3.6.5"
  }
 },
 "nbformat": 4,
 "nbformat_minor": 2
}
